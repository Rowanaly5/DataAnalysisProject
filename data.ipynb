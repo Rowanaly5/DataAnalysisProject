{
 "cells": [
  {
   "cell_type": "code",
   "execution_count": 94,
   "metadata": {},
   "outputs": [],
   "source": [
    "import pandas as pd \n",
    "df = pd.read_csv(\"glassdoor_jobs.csv\")\n"
   ]
  },
  {
   "cell_type": "code",
   "execution_count": 132,
   "metadata": {},
   "outputs": [],
   "source": [
    "df['hourly'] = df['Salary Estimate'].apply(lambda x: 1 if 'per hour' in x.lower() else 0)\n"
   ]
  },
  {
   "cell_type": "code",
   "execution_count": 133,
   "metadata": {},
   "outputs": [],
   "source": [
    "df['employer_provided'] = df['Salary Estimate'].apply(lambda x: 1 if 'employer provided salary:' in x.lower() else 0)\n"
   ]
  },
  {
   "cell_type": "code",
   "execution_count": 134,
   "metadata": {},
   "outputs": [],
   "source": [
    "df = df[df['Salary Estimate'] != '-1']\n"
   ]
  },
  {
   "cell_type": "code",
   "execution_count": 136,
   "metadata": {},
   "outputs": [],
   "source": [
    "salary = df['Salary Estimate'].apply(lambda x: x.split('(')[0])\n",
    "minus_Kd = salary.apply(lambda x: x.replace('K','').replace('$',''))\n",
    "\n"
   ]
  },
  {
   "cell_type": "code",
   "execution_count": 137,
   "metadata": {},
   "outputs": [],
   "source": [
    "min_hr = minus_Kd.apply(lambda x: x.lower().replace('per hour','').replace('employer provided salary:',''))\n"
   ]
  },
  {
   "cell_type": "code",
   "execution_count": 138,
   "metadata": {},
   "outputs": [],
   "source": [
    "df['min_salary'] = min_hr.apply(lambda x: int(x.split('-')[0]))\n",
    "df['max_salary'] = min_hr.apply(lambda x: int(x.split('-')[1]))\n",
    "df['avg_salary'] = (df.min_salary+df.max_salary)/2"
   ]
  },
  {
   "cell_type": "code",
   "execution_count": 130,
   "metadata": {},
   "outputs": [],
   "source": [
    "df['desc_len'] = df['Job Description'].apply(lambda x: len(x))\n"
   ]
  },
  {
   "cell_type": "code",
   "execution_count": 31,
   "metadata": {},
   "outputs": [
    {
     "data": {
      "text/plain": [
       "0                                                     -1\n",
       "1                                                     -1\n",
       "2                                                     -1\n",
       "3      Oak Ridge National Laboratory, National Renewa...\n",
       "4                   Commerce Signals, Cardlytics, Yodlee\n",
       "                             ...                        \n",
       "950                           Pfizer, AstraZeneca, Merck\n",
       "951                      See Tickets, TicketWeb, Vendini\n",
       "952                                                   -1\n",
       "953                                                   -1\n",
       "955                                                   -1\n",
       "Name: Competitors, Length: 742, dtype: object"
      ]
     },
     "execution_count": 31,
     "metadata": {},
     "output_type": "execute_result"
    }
   ],
   "source": [
    "df['num_comp'] = df['Competitors'].apply(lambda x: len(x.split(',')) if x != '-1' else 0)\n"
   ]
  },
  {
   "cell_type": "code",
   "execution_count": 93,
   "metadata": {},
   "outputs": [],
   "source": [
    "#company name text only\n",
    "df['company_txt']= df.apply(lambda x: x['Company Name'] if x['Rating'] < 0 else x['Company Name'][:-4], axis =1)\n"
   ]
  },
  {
   "cell_type": "code",
   "execution_count": 81,
   "metadata": {},
   "outputs": [],
   "source": [
    "#state field\n",
    "df['job_state'] =df['Location'].apply(lambda x: x.split(',')[1])\n",
    "df.job_state.value_counts()\n",
    "df['same_state'] = df.apply(lambda x: 1 if x.Location == x.Headquarters else 0, axis=1)\n"
   ]
  },
  {
   "cell_type": "code",
   "execution_count": 79,
   "metadata": {},
   "outputs": [],
   "source": [
    "#age of company\n",
    "df['age'] = df.Founded.apply(lambda x: x if x<1 else 2020 -x)\n"
   ]
  },
  {
   "cell_type": "code",
   "execution_count": null,
   "metadata": {},
   "outputs": [],
   "source": [
    "#parsing of job description (python , etc)"
   ]
  },
  {
   "cell_type": "code",
   "execution_count": 140,
   "metadata": {},
   "outputs": [],
   "source": [
    "#python\n",
    "df['python_yn'] = df['Job Description'].apply(lambda x: 1 if 'python' in x.lower() else 0)\n"
   ]
  },
  {
   "cell_type": "code",
   "execution_count": 144,
   "metadata": {},
   "outputs": [
    {
     "data": {
      "text/plain": [
       "0    740\n",
       "1      2\n",
       "Name: R_yn, dtype: int64"
      ]
     },
     "execution_count": 144,
     "metadata": {},
     "output_type": "execute_result"
    }
   ],
   "source": [
    "#r studio\n",
    "df['R_yn'] = df['Job Description'].apply(lambda x: 1 if 'r studio' in x.lower() or 'r-studio' in x.lower() else 0)\n",
    "df.R_yn.value_counts()"
   ]
  },
  {
   "cell_type": "code",
   "execution_count": 143,
   "metadata": {},
   "outputs": [
    {
     "data": {
      "text/plain": [
       "0    575\n",
       "1    167\n",
       "Name: spark, dtype: int64"
      ]
     },
     "execution_count": 143,
     "metadata": {},
     "output_type": "execute_result"
    }
   ],
   "source": [
    "#spark\n",
    "df['spark'] = df['Job Description'].apply(lambda x: 1 if 'spark' in x.lower() else 0)\n",
    "df.spark.value_counts()"
   ]
  },
  {
   "cell_type": "code",
   "execution_count": 86,
   "metadata": {},
   "outputs": [
    {
     "data": {
      "text/plain": [
       "0    607\n",
       "1    135\n",
       "Name: ows, dtype: int64"
      ]
     },
     "execution_count": 86,
     "metadata": {},
     "output_type": "execute_result"
    }
   ],
   "source": [
    "#ows\n",
    "df['ows'] = df['Job Description'].apply(lambda x: 1 if 'ows' in x.lower() else 0)\n",
    "df.ows.value_counts()"
   ]
  },
  {
   "cell_type": "code",
   "execution_count": 87,
   "metadata": {},
   "outputs": [
    {
     "data": {
      "text/plain": [
       "1    388\n",
       "0    354\n",
       "Name: excel, dtype: int64"
      ]
     },
     "execution_count": 87,
     "metadata": {},
     "output_type": "execute_result"
    }
   ],
   "source": [
    "#excel \n",
    "df['excel'] = df['Job Description'].apply(lambda x: 1 if 'excel' in x.lower()  else 0)\n",
    "df.excel.value_counts()"
   ]
  },
  {
   "cell_type": "code",
   "execution_count": 145,
   "metadata": {},
   "outputs": [
    {
     "data": {
      "text/plain": [
       "Index(['Unnamed: 0', 'Job Title', 'Salary Estimate', 'Job Description',\n",
       "       'Rating', 'Company Name', 'Location', 'Headquarters', 'Size', 'Founded',\n",
       "       'Type of ownership', 'Industry', 'Sector', 'Revenue', 'Competitors',\n",
       "       'hourly', 'employer_provided', 'min_salary', 'max_salary', 'avg_salary',\n",
       "       'company_txt', 'job_state', 'same_state', 'age', 'python_yn', 'R_yn',\n",
       "       'spark', 'aws', 'excel', 'desc_len'],\n",
       "      dtype='object')"
      ]
     },
     "execution_count": 145,
     "metadata": {},
     "output_type": "execute_result"
    }
   ],
   "source": [
    "df.columns"
   ]
  },
  {
   "cell_type": "code",
   "execution_count": 146,
   "metadata": {},
   "outputs": [],
   "source": [
    "df_out = df.drop(['Unnamed: 0'] ,axis =1)"
   ]
  },
  {
   "cell_type": "code",
   "execution_count": 148,
   "metadata": {},
   "outputs": [],
   "source": [
    "df_out.to_csv('salary_data_cleaned.csv',index =False)"
   ]
  },
  {
   "cell_type": "code",
   "execution_count": null,
   "metadata": {},
   "outputs": [],
   "source": []
  }
 ],
 "metadata": {
  "kernelspec": {
   "display_name": "Python 3",
   "language": "python",
   "name": "python3"
  },
  "language_info": {
   "codemirror_mode": {
    "name": "ipython",
    "version": 3
   },
   "file_extension": ".py",
   "mimetype": "text/x-python",
   "name": "python",
   "nbconvert_exporter": "python",
   "pygments_lexer": "ipython3",
   "version": "3.8.5"
  }
 },
 "nbformat": 4,
 "nbformat_minor": 4
}
